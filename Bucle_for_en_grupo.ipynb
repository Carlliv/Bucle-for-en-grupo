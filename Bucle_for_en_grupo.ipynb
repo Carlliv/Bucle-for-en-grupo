{
  "nbformat": 4,
  "nbformat_minor": 0,
  "metadata": {
    "colab": {
      "provenance": [],
      "authorship_tag": "ABX9TyOlYLlS8bWtXSGgwrHwpnXC"
    },
    "kernelspec": {
      "name": "python3",
      "display_name": "Python 3"
    },
    "language_info": {
      "name": "python"
    }
  },
  "cells": [
    {
      "cell_type": "code",
      "source": [
        "import random as ra"
      ],
      "metadata": {
        "id": "wHkJe_JD0xlU"
      },
      "execution_count": 18,
      "outputs": []
    },
    {
      "cell_type": "code",
      "source": [
        "per={'Juan':ra.randrange(0,100,1),\n",
        "     'Toño':ra.randrange(0,100,1),\n",
        "     'Lola':ra.randrange(0,100,1),\n",
        "     'Tatania':ra.randrange(0,100,1),\n",
        "     'Carlos':ra.randrange(0,100,1),\n",
        "     'Diego':ra.randrange(0,100,1)}\n",
        "for i in per.items():\n",
        "  print(i)"
      ],
      "metadata": {
        "colab": {
          "base_uri": "https://localhost:8080/"
        },
        "id": "J98LIDeJ1B_s",
        "outputId": "3ef917ce-5a33-4540-baa3-f06922b53dfc"
      },
      "execution_count": 19,
      "outputs": [
        {
          "output_type": "stream",
          "name": "stdout",
          "text": [
            "('Juan', 33)\n",
            "('Toño', 27)\n",
            "('Lola', 17)\n",
            "('Tatania', 45)\n",
            "('Carlos', 41)\n",
            "('Diego', 8)\n"
          ]
        }
      ]
    },
    {
      "cell_type": "code",
      "source": [
        "print('El numero más grande es: ', max(per.values()), 'y el numero más pequeño es: ', min(per.values()))"
      ],
      "metadata": {
        "colab": {
          "base_uri": "https://localhost:8080/"
        },
        "id": "O5DoJ_01IJqt",
        "outputId": "718c0759-74d5-4309-a4f8-035517379af1"
      },
      "execution_count": 21,
      "outputs": [
        {
          "output_type": "stream",
          "name": "stdout",
          "text": [
            "El numero más grande es:  45 y el numero más pequeño es:  8\n"
          ]
        }
      ]
    }
  ]
}